{
 "cells": [
  {
   "cell_type": "code",
   "execution_count": 1,
   "metadata": {},
   "outputs": [],
   "source": [
    "#main.py in PyPoll\n",
    "\n",
    "import os\n",
    "import csv\n",
    "\n",
    "# set the path\n",
    "csvpath = os.path.join( 'election_data.csv')\n"
   ]
  },
  {
   "cell_type": "code",
   "execution_count": 2,
   "metadata": {},
   "outputs": [],
   "source": [
    "# initialize the variables\n",
    "total_votes = 0\n",
    "candidate_option = []\n",
    "candidate_vote = {}\n",
    "winning_count = 0"
   ]
  },
  {
   "cell_type": "code",
   "execution_count": 3,
   "metadata": {},
   "outputs": [],
   "source": [
    "# open the election_data.csv\n",
    "with open(csvpath, newline=\"\") as csvfile:\n",
    "   # read the rows\n",
    "   csvreader=csv.reader(csvfile,delimiter=\",\")\n",
    "  #Skips the header row\n",
    "   csv_header = next(csvreader)\n",
    "   # loop through the rows and add them to the dictionary if not already there.\n",
    "   for row in csvreader:\n",
    "    total_votes = total_votes + 1 \n",
    "    candidate_name = row[2]\n",
    "    if candidate_name not in candidate_option:\n",
    "        candidate_option.append(candidate_name)\n",
    "        candidate_vote[candidate_name]=0\n",
    "    candidate_vote[candidate_name]= candidate_vote[candidate_name]+1\n",
    "    #winning vote count for candidate\n",
    "    for candidate in candidate_vote:\n",
    "       votes = candidate_vote.get(candidate)\n",
    "       vote_percentage = float(votes) / float (total_votes)  * 100\n",
    "\n",
    "      # find winning vote count and candidate\n",
    "       if votes > winning_count: \n",
    "            winning_count = votes\n",
    "            winning_candidate = candidate\n"
   ]
  },
  {
   "cell_type": "code",
   "execution_count": 20,
   "metadata": {},
   "outputs": [
    {
     "name": "stdout",
     "output_type": "stream",
     "text": [
      "4\n"
     ]
    }
   ],
   "source": [
    "print (len(candidate_vote))"
   ]
  },
  {
   "cell_type": "code",
   "execution_count": 17,
   "metadata": {},
   "outputs": [
    {
     "name": "stdout",
     "output_type": "stream",
     "text": [
      "\n",
      "\n",
      "Election Results\n",
      "******************\n",
      "Total Votes: 3521001\n",
      "*************\n",
      "Khan: 63.000% (2218231)\n",
      "Correy: 20.000% (704200)\n",
      "Li: 14.000% (492940)\n",
      "O'Tooley: 3.000% (105630)\n",
      "********************\n",
      "Winner: Khan\n",
      "********************\n",
      "\n"
     ]
    }
   ],
   "source": [
    "# Print the results and export the data to our text file\n",
    "output_path = os.path.join(\"analysis\", \"election_analysis.txt\")\n",
    "with open(output_path, \"w\") as txt_file:\n",
    "   # Print the final vote count (to terminal)\n",
    "   election_results = (\n",
    "       f\"\\n\\nElection Results\\n\"\n",
    "       f\"******************\\n\"\n",
    "       f\"Total Votes: {total_votes}\\n\"\n",
    "       f\"*************\\n\")\n",
    "   print(election_results, end=\"\")\n",
    "   # Save the final vote count to the text file\n",
    "   txt_file.write(election_results)\n",
    "   # Determine the winner by looping through the counts\n",
    "   for candidate in candidate_vote:\n",
    "       # Retrieve vote count and percentage\n",
    "       votes = candidate_vote.get(candidate)\n",
    "       vote_percentage = float(votes) / float(total_votes) * 100\n",
    "       # Determine winning vote count and candidate\n",
    "       if (votes > winning_count):\n",
    "           winning_count = votes\n",
    "           winning_candidate = candidate\n",
    "       # Print each candidate's voter count and percentage (to terminal)\n",
    "       voter_output = f\"{candidate}: {vote_percentage:.3f}% ({votes})\\n\"\n",
    "       print(voter_output, end=\"\")\n",
    "       # Save each candidate's voter count and percentage to text file\n",
    "       txt_file.write(voter_output)\n",
    "   # Print the winning candidate (to terminal)\n",
    "   winning_candidate_summary = (\n",
    "       f\"********************\\n\"\n",
    "       f\"Winner: {winning_candidate}\\n\"\n",
    "       f\"********************\\n\")\n",
    "   print(winning_candidate_summary)\n",
    "   # Save the winning candidate's name to the text file\n",
    "   txt_file.write(winning_candidate_summary)"
   ]
  },
  {
   "cell_type": "code",
   "execution_count": null,
   "metadata": {},
   "outputs": [],
   "source": []
  },
  {
   "cell_type": "code",
   "execution_count": null,
   "metadata": {},
   "outputs": [],
   "source": []
  }
 ],
 "metadata": {
  "kernelspec": {
   "display_name": "Python 3",
   "language": "python",
   "name": "python3"
  },
  "language_info": {
   "codemirror_mode": {
    "name": "ipython",
    "version": 3
   },
   "file_extension": ".py",
   "mimetype": "text/x-python",
   "name": "python",
   "nbconvert_exporter": "python",
   "pygments_lexer": "ipython3",
   "version": "3.6.8"
  }
 },
 "nbformat": 4,
 "nbformat_minor": 2
}
