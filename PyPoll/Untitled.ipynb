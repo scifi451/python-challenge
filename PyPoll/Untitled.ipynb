{
 "cells": [
  {
   "cell_type": "code",
   "execution_count": 4,
   "metadata": {},
   "outputs": [
    {
     "name": "stdout",
     "output_type": "stream",
     "text": [
      "Key : one , Value : 1\n",
      "Key : two , Value : 2\n",
      "Key : three , Value : 3\n",
      "Key : four , Value : 4\n"
     ]
    }
   ],
   "source": [
    "my_dict = {\"one\": 1,\"two\":2,\"three\":3,\"four\":4}\n",
    "\n",
    "for item in my_dict:\n",
    "    print(\"Key : {} , Value : {}\".format(item,my_dict[item]))"
   ]
  },
  {
   "cell_type": "code",
   "execution_count": null,
   "metadata": {},
   "outputs": [],
   "source": []
  }
 ],
 "metadata": {
  "kernelspec": {
   "display_name": "Python 3",
   "language": "python",
   "name": "python3"
  },
  "language_info": {
   "codemirror_mode": {
    "name": "ipython",
    "version": 3
   },
   "file_extension": ".py",
   "mimetype": "text/x-python",
   "name": "python",
   "nbconvert_exporter": "python",
   "pygments_lexer": "ipython3",
   "version": "3.6.8"
  }
 },
 "nbformat": 4,
 "nbformat_minor": 2
}
